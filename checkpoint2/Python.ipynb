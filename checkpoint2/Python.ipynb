{
 "cells": [
  {
   "cell_type": "code",
   "execution_count": null,
   "id": "c1d1a6b7",
   "metadata": {},
   "outputs": [],
   "source": [
    "# question 1\n",
    "\n",
    "#Écrivez un programme qui trouvera tous les nombres divisibles par 7 mais non multiples de 5,\n",
    "#entre 2000 et 3200 (les deux inclus).\n",
    "#Les nombres obtenus doivent être imprimés dans une liste.\n",
    "\n",
    "#Conseils : pensez à utiliser la méthode range(#begin, #end).\n",
    "\n",
    "for x in range(2000,3200):\n",
    "    ch=str(x);\n",
    "    if ch[3]!=\"0\" or ch[3]!=\"5\":\n",
    "            x=int(ch)\n",
    "            if x%7==0:\n",
    "                 print(x)\n",
    "\n",
    "                  "
   ]
  },
  {
   "cell_type": "code",
   "execution_count": 74,
   "id": "e59740ce",
   "metadata": {},
   "outputs": [
    {
     "name": "stdout",
     "output_type": "stream",
     "text": [
      "1ere methode donner une valeur: 3\n",
      "3 ! = 6\n",
      "2em methode donner une valeur: 5\n",
      "5 ! = 120\n"
     ]
    }
   ],
   "source": [
    "#question 2 \n",
    "\n",
    "#Écrire un programme capable de calculer la factorielle d'un nombre donné.\n",
    "#(la factorielle de n est le produit de tous les entiers positifs inférieurs ou égaux à n). \n",
    "#par exemple factoriel(5)= 5 x 4 x 3 x 2 x 1 le résultat est 120. (c'est-à-dire factoriel (0)=1)\n",
    "\n",
    "##1ere methode\n",
    "from math import factorial\n",
    "\n",
    "x=input(\"1ere methode donner une valeur: \")\n",
    "x=int(x)\n",
    "print(x,\"! =\",factorial(x));\n",
    "\n",
    "\n",
    "##2em methode \n",
    "def facto(x):\n",
    "    if x<0:\n",
    "        print(\"nombre negatif, impossible de donner le factoriel\")\n",
    "    if(x==0 or x==1):\n",
    "        return 1\n",
    "    else:\n",
    "        f=1;\n",
    "        while(x>1):\n",
    "            f=f*x;\n",
    "            x=x-1;\n",
    "        return (f)\n",
    "    print(x)\n",
    "x=input(\"2em methode donner une valeur: \")\n",
    "x=int(x)\n",
    "print(x,\"! =\", facto(x) )"
   ]
  },
  {
   "cell_type": "code",
   "execution_count": 39,
   "id": "ab130e6d",
   "metadata": {},
   "outputs": [
    {
     "name": "stdout",
     "output_type": "stream",
     "text": [
      "Donner une valeur: 6\n",
      "le dictionnaire de  6  est : {1: 1, 2: 4, 3: 9, 4: 16, 5: 25, 6: 36}\n"
     ]
    }
   ],
   "source": [
    "#question 3 \n",
    "\n",
    "#Avec un nombre entier n donné, écrivez un programme pour générer un dictionnaire qui contient (i, i*i) \n",
    "#tel qu'il soit un nombre entier compris entre 1 et n (tous deux inclus).\n",
    "#puis le programme doit imprimer le dictionnaire. \n",
    "#Supposons que l'entrée suivante soit fournie au programme :\n",
    "#8 Ensuite, la sortie doit être : {1 : 1, 2 : 4, 3 : 9, 4 : 16, 5 : 25, 6 : 36, 7 : 49, 8 : 64 }  \n",
    "\n",
    "def dicto(n):\n",
    "    i=1; \n",
    "    x=1;\n",
    "    dist={};\n",
    "    for i in range(n):\n",
    "        i+=1;\n",
    "        x=i*i;\n",
    "        dist[i]=x;\n",
    "    return dist;\n",
    "      \n",
    "y=input(\"Donner une valeur: \")\n",
    "y=int(y);\n",
    "print(\"le dictionnaire de \",y, \" est :\",dicto(y));\n"
   ]
  },
  {
   "cell_type": "code",
   "execution_count": 68,
   "id": "37f8faae",
   "metadata": {},
   "outputs": [
    {
     "name": "stdout",
     "output_type": "stream",
     "text": [
      "Donner un mot:KITTEN\n",
      "Donner le numero de l'index a supprimer: 4\n",
      "' KITTN ' on a supprimé E qui est a l'index 4\n"
     ]
    }
   ],
   "source": [
    "#question 4 \n",
    "\n",
    "#Étant donné une chaîne non vide et un int n, renvoie une nouvelle chaîne où le caractère à l'index n a été supprimé.\n",
    "#La valeur de n sera un index valide d'un caractère dans la chaîne d'origine (c'est-à-dire que n sera compris entre 0..len(str)-1 inclus). \n",
    "\n",
    "#missing_char('kitten', 1) → 'ktten' par exemple ici on supprime \"i\" qui se trouve dans l'index 1\n",
    "\n",
    "#missing_char('kitten', 0) → 'itten' ici on supprime \"k\" qui est dans l'index 0\n",
    "\n",
    "#missing_char('kitten', 4) → 'kittn' ici on supprime \"e\" qui est dans l'index 4\n",
    "\n",
    "def missing_char():\n",
    "    x=input(\"Donner un mot:\");\n",
    "    y=input(\"Donner le numero de l'index a supprimer: \");\n",
    "    char=str(x);\n",
    "    lg=len(char);\n",
    "    y=int(y);\n",
    "    i=1;\n",
    "    for i in range(lg):\n",
    "        sup=char.replace(*char[y],\"\");\n",
    "    print(\"'\",sup,\"'\", \"on a supprimé '\",char[y],\"' qui est a l'index\",y);\n",
    "\n",
    "\n",
    "missing_char();"
   ]
  },
  {
   "cell_type": "code",
   "execution_count": 17,
   "id": "2252a610",
   "metadata": {},
   "outputs": [
    {
     "name": "stdout",
     "output_type": "stream",
     "text": [
      "[[0 1]\n",
      " [2 3]\n",
      " [4 5]]\n"
     ]
    }
   ],
   "source": [
    "#question 5 \n",
    "\n",
    "#Écrivez un programme NumPy pour convertir un tableau NumPy en une structure de liste Python.\n",
    "\n",
    "#Production attendue: \n",
    "\n",
    "#Éléments du tableau d'origine : [[0 1] [2 3] [4 5]] \n",
    "\n",
    "#Tableau à liste : [[0, 1], [2, 3], [4, 5]] \n",
    " \n",
    "\n",
    "#Astuce : on peut utiliser la fonction to_list() pour assurer la conversion.\n",
    "\n",
    "def to_list():\n",
    "    import numpy as np;\n",
    "    tab= [[0, 1], [2, 3], [4, 5]];\n",
    "    new_list=np.array(tab);\n",
    "    print(new_list);\n",
    "\n",
    "to_list();"
   ]
  },
  {
   "cell_type": "code",
   "execution_count": 20,
   "id": "b355e466",
   "metadata": {},
   "outputs": [
    {
     "name": "stdout",
     "output_type": "stream",
     "text": [
      "[[ 1. -1.]\n",
      " [-1.  1.]]\n"
     ]
    }
   ],
   "source": [
    "#question 6\n",
    "#Écrivez un programme NumPy pour calculer la matrice de covariance de deux tableaux donnés. \n",
    "#Tableau d'origine1 : [0 1 2] \n",
    "#Tableau d'origine2 : [2 1 0] \n",
    "#Matrice de covariance desdits tableaux : [[ 1. -1.] [-1. 1.]]\n",
    "#Astuce : Nous pouvons utiliser la fonction np.cov() pour calculer la covariance entre ces deux tableaux\n",
    "import numpy as np\n",
    "tab1=np.array([0,1,2]);\n",
    "tab2=np.array([2, 1, 0]);\n",
    "conv=np.cov(tab2,tab1);\n",
    "\n",
    "print(conv);"
   ]
  },
  {
   "cell_type": "code",
   "execution_count": 29,
   "id": "b888132b",
   "metadata": {},
   "outputs": [
    {
     "name": "stdout",
     "output_type": "stream",
     "text": [
      "18 , 22 , 24\n"
     ]
    }
   ],
   "source": [
    "#question 7\n",
    "#Question : Écrivez un programme qui calcule et imprime la valeur selon la formule donnée : Q = Racine carrée de [(2 * C * D)/H] \n",
    "#Voici les valeurs fixes de C et H : C est 50. H est 30. \n",
    "#D est la variable dont les valeurs doivent être entrées dans votre programme dans une séquence séparée par des virgules. \n",
    "#(cela signifie que D contient plus que la valeur)\n",
    "#Exemple Supposons que la séquence d'entrées séparées par des virgules suivante est donnée au\n",
    "#programme : 100,150,180 La sortie du programme doit être : 18,22,24 \n",
    "#Pour expliquer cela plus en détail, nous obtiendrons un résultat pour chaque valeur de D\n",
    "# Q1= Racine carrée de [(2 * C * 100)/H] =18, \n",
    "#    Q2= Racine carrée de [(2 * C * 150)/H ] = 22 et\n",
    "#    Q3 = Racine carrée de [(2 * C * 180)/H] = 24\n",
    "#Conseils : Si la sortie reçue est sous forme décimale, elle doit être arrondie à sa valeur la plus proche\n",
    "#(par exemple, si la sortie reçue est 26,0, elle doit être imprimée sous la forme 26) \n",
    "#En cas de données d'entrée fournies à la question, il doit être supposé être une entrée de console. \n",
    "\n",
    "\n",
    "import math as mt\n",
    "def calcul(x,y,z):\n",
    "    C=50;\n",
    "    H=30;\n",
    "    Q1 =int( mt.sqrt((2 * C * x)/H));\n",
    "    Q2 =int( mt.sqrt((2 * C * y)/H));\n",
    "    Q3 =int(mt.sqrt((2 * C * z)/H));\n",
    "    print(Q1,\",\" ,Q2, \",\" ,Q3);\n",
    "\n",
    "calcul(100,150,180);"
   ]
  },
  {
   "cell_type": "code",
   "execution_count": null,
   "id": "c5d2aa04",
   "metadata": {},
   "outputs": [],
   "source": []
  }
 ],
 "metadata": {
  "kernelspec": {
   "display_name": "Python 3 (ipykernel)",
   "language": "python",
   "name": "python3"
  },
  "language_info": {
   "codemirror_mode": {
    "name": "ipython",
    "version": 3
   },
   "file_extension": ".py",
   "mimetype": "text/x-python",
   "name": "python",
   "nbconvert_exporter": "python",
   "pygments_lexer": "ipython3",
   "version": "3.9.7"
  }
 },
 "nbformat": 4,
 "nbformat_minor": 5
}
